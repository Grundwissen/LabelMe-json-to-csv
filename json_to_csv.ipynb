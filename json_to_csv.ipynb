{
 "cells": [
  {
   "cell_type": "code",
   "execution_count": 7,
   "metadata": {},
   "outputs": [],
   "source": [
    "# !!! notebook has to be inside of the directory !!!\n",
    "\n",
    "import pandas as pd\n",
    "import json\n",
    "import os\n",
    "'''\n",
    "For me the columns \"imagePath\" and \"shapes\" are important.\n",
    "Inside of \"shapes\" I only need the \"label\" and \"points\" collumn\n",
    "You can have a look at the json file with this code:\n",
    "    \n",
    "filename= 'your_choosen_filename.json'\n",
    "data = json.load(open(filename))\n",
    "df = pd.DataFrame.from_dict(data, orient='index').T\n",
    "df\n",
    "\n",
    "'''\n",
    "\n",
    "for filename in os.listdir():                                # iterate in directory\n",
    "    if filename.endswith('.json'):\n",
    "        try:\n",
    "            data = json.load(open(filename))                     # load json file to memory\n",
    "            df = pd.DataFrame.from_dict(data, orient='index').T  # load json to pandas\n",
    "            df_2 = df_2[['imagePath', 'shapes']] = df[['imagePath', 'shapes']].copy() \n",
    "       \n",
    "            df = pd.DataFrame(list(df_2['shapes'][0]))             # get columns with key points\n",
    "            df = pd.DataFrame(df[['label', 'points']])       \n",
    "            asd = df.join(df_2.imagePath)\n",
    "            row = asd[['imagePath', 'label', 'points']]            # you can add more collumns\n",
    "        \n",
    "            with open('01key_points.csv', 'a') as csvFile:         # write rows in a csv file\n",
    "                row.to_csv(csvFile, index=False)\n",
    "        except:\n",
    "            pass\n",
    "\n",
    "'''\n",
    "Use try and except for large dataset.\n",
    "In my case there was one or two json files with no written key points.\n",
    "This try and except ignore those and the loop will continue\n",
    "'''\n",
    "            \n",
    "\n",
    " "
   ]
  },
  {
   "cell_type": "code",
   "execution_count": 2,
   "metadata": {},
   "outputs": [
    {
     "name": "stdout",
     "output_type": "stream",
     "text": [
      "(1911, 3)\n",
      "imagePath    object\n",
      "label        object\n",
      "points       object\n",
      "dtype: object\n"
     ]
    }
   ],
   "source": [
    "#Clean the csv file (because we have for each label the header)\n",
    "import pandas as pd\n",
    "\n",
    "df = pd.read_csv('01key_points.csv')\n",
    "print(df.shape)\n",
    "print(df.dtypes)\n",
    "df.head()\n",
    "\n",
    "#drop the rows which include the header imagePath\n",
    "droppi = df[df.imagePath == 'imagePath'] \n",
    "dd = df.drop(droppi.index, axis=0)\n",
    "#create new csv file\n",
    "dd.to_csv('01key_points_edit.csv', index=False, encoding='utf8')\n",
    "\n",
    "#note: points column is object"
   ]
  },
  {
   "cell_type": "code",
   "execution_count": null,
   "metadata": {},
   "outputs": [],
   "source": []
  }
 ],
 "metadata": {
  "kernelspec": {
   "display_name": "Python 3",
   "language": "python",
   "name": "python3"
  },
  "language_info": {
   "codemirror_mode": {
    "name": "ipython",
    "version": 3
   },
   "file_extension": ".py",
   "mimetype": "text/x-python",
   "name": "python",
   "nbconvert_exporter": "python",
   "pygments_lexer": "ipython3",
   "version": "3.6.8"
  }
 },
 "nbformat": 4,
 "nbformat_minor": 2
}
